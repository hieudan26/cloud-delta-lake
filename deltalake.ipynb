{
 "cells": [
  {
   "cell_type": "code",
   "execution_count": 1,
   "id": "e4a00f3a-75f3-4d6c-a3a1-653571fcca60",
   "metadata": {
    "execution": {
     "iopub.execute_input": "2022-11-13T12:08:25.448317Z",
     "iopub.status.busy": "2022-11-13T12:08:25.448101Z",
     "iopub.status.idle": "2022-11-13T12:08:25.464956Z",
     "shell.execute_reply": "2022-11-13T12:08:25.464421Z",
     "shell.execute_reply.started": "2022-11-13T12:08:25.448293Z"
    },
    "tags": []
   },
   "outputs": [
    {
     "data": {
      "text/html": [
       "Current session configs: <tt>{'conf': {'spark.sql.extensions': 'io.delta.sql.DeltaSparkSessionExtension', 'spark.sql.catalog.spark_catalog': 'org.apache.spark.sql.delta.catalog.DeltaCatalog'}, 'proxyUser': 'assumed-role_voclabs_user1705252_19110345_student_hcmute_edu_vn', 'kind': 'pyspark'}</tt><br>"
      ],
      "text/plain": [
       "<IPython.core.display.HTML object>"
      ]
     },
     "metadata": {},
     "output_type": "display_data"
    },
    {
     "data": {
      "text/html": [
       "No active sessions."
      ],
      "text/plain": [
       "<IPython.core.display.HTML object>"
      ]
     },
     "metadata": {},
     "output_type": "display_data"
    }
   ],
   "source": [
    "%%configure -f\n",
    "{\n",
    "  \"conf\": {\n",
    "    \"spark.sql.extensions\": \"io.delta.sql.DeltaSparkSessionExtension\",\n",
    "    \"spark.sql.catalog.spark_catalog\": \"org.apache.spark.sql.delta.catalog.DeltaCatalog\"\n",
    "  }\n",
    "}"
   ]
  },
  {
   "cell_type": "code",
   "execution_count": 2,
   "id": "0164219e-02cb-4128-b64b-e960d37f066f",
   "metadata": {
    "execution": {
     "iopub.execute_input": "2022-11-13T12:08:25.480399Z",
     "iopub.status.busy": "2022-11-13T12:08:25.480217Z",
     "iopub.status.idle": "2022-11-13T12:09:01.948608Z",
     "shell.execute_reply": "2022-11-13T12:09:01.947768Z",
     "shell.execute_reply.started": "2022-11-13T12:08:25.480377Z"
    },
    "tags": []
   },
   "outputs": [
    {
     "data": {
      "application/vnd.jupyter.widget-view+json": {
       "model_id": "80f7a86bfbc7474d816f84aaa8c2c86b",
       "version_major": 2,
       "version_minor": 0
      },
      "text/plain": [
       "VBox()"
      ]
     },
     "metadata": {},
     "output_type": "display_data"
    },
    {
     "name": "stdout",
     "output_type": "stream",
     "text": [
      "Starting Spark application\n"
     ]
    },
    {
     "data": {
      "text/html": [
       "<table>\n",
       "<tr><th>ID</th><th>YARN Application ID</th><th>Kind</th><th>State</th><th>Spark UI</th><th>Driver log</th><th>User</th><th>Current session?</th></tr><tr><td>1</td><td>application_1668337450421_0002</td><td>pyspark</td><td>idle</td><td><a target=\"_blank\" href=\"http://ip-172-31-46-11.ec2.internal:20888/proxy/application_1668337450421_0002/\" class=\"emr-proxy-link\" emr-resource=\"j-1W76DEMX1CJQJ\n",
       "\" application-id=\"application_1668337450421_0002\">Link</a></td><td><a target=\"_blank\" href=\"http://ip-172-31-46-11.ec2.internal:8042/node/containerlogs/container_1668337450421_0002_01_000001/livy\" >Link</a></td><td>None</td><td>✔</td></tr></table>"
      ],
      "text/plain": [
       "<IPython.core.display.HTML object>"
      ]
     },
     "metadata": {},
     "output_type": "display_data"
    },
    {
     "data": {
      "application/vnd.jupyter.widget-view+json": {
       "model_id": "b6e9859b8c424df3ac9301336bce9fd0",
       "version_major": 2,
       "version_minor": 0
      },
      "text/plain": [
       "FloatProgress(value=0.0, bar_style='info', description='Progress:', layout=Layout(height='25px', width='50%'),…"
      ]
     },
     "metadata": {},
     "output_type": "display_data"
    },
    {
     "name": "stdout",
     "output_type": "stream",
     "text": [
      "SparkSession available as 'spark'.\n"
     ]
    },
    {
     "data": {
      "application/vnd.jupyter.widget-view+json": {
       "model_id": "7be92d9fbe2d405884ec8ce72bcfaca6",
       "version_major": 2,
       "version_minor": 0
      },
      "text/plain": [
       "FloatProgress(value=0.0, bar_style='info', description='Progress:', layout=Layout(height='25px', width='50%'),…"
      ]
     },
     "metadata": {},
     "output_type": "display_data"
    }
   ],
   "source": [
    "from delta.tables import *\n",
    "from pyspark.sql.functions import *"
   ]
  },
  {
   "cell_type": "code",
   "execution_count": 3,
   "id": "5f361a8b-22c2-4316-a471-e9456930a68e",
   "metadata": {
    "execution": {
     "iopub.execute_input": "2022-11-13T12:09:01.950156Z",
     "iopub.status.busy": "2022-11-13T12:09:01.949824Z",
     "iopub.status.idle": "2022-11-13T12:09:02.021036Z",
     "shell.execute_reply": "2022-11-13T12:09:02.020297Z",
     "shell.execute_reply.started": "2022-11-13T12:09:01.950127Z"
    },
    "tags": []
   },
   "outputs": [
    {
     "data": {
      "application/vnd.jupyter.widget-view+json": {
       "model_id": "52954515afa24ac09fda5ce778b1d91f",
       "version_major": 2,
       "version_minor": 0
      },
      "text/plain": [
       "VBox()"
      ]
     },
     "metadata": {},
     "output_type": "display_data"
    },
    {
     "data": {
      "application/vnd.jupyter.widget-view+json": {
       "model_id": "e709eb85ffe74581b455f80f9e33acd6",
       "version_major": 2,
       "version_minor": 0
      },
      "text/plain": [
       "FloatProgress(value=0.0, bar_style='info', description='Progress:', layout=Layout(height='25px', width='50%'),…"
      ]
     },
     "metadata": {},
     "output_type": "display_data"
    }
   ],
   "source": [
    "deltaPath = \"s3://ute-delta-lake/delta-amazon-reviews-pds/\""
   ]
  },
  {
   "cell_type": "code",
   "execution_count": 4,
   "id": "e05dbc24-bf47-4a7b-87d3-41b2294f35c3",
   "metadata": {
    "execution": {
     "iopub.execute_input": "2022-11-13T12:09:02.023217Z",
     "iopub.status.busy": "2022-11-13T12:09:02.022779Z",
     "iopub.status.idle": "2022-11-13T12:09:11.384635Z",
     "shell.execute_reply": "2022-11-13T12:09:11.383878Z",
     "shell.execute_reply.started": "2022-11-13T12:09:02.023174Z"
    },
    "tags": []
   },
   "outputs": [
    {
     "data": {
      "application/vnd.jupyter.widget-view+json": {
       "model_id": "3450a5eafbae41908bd01b3ec0e433b5",
       "version_major": 2,
       "version_minor": 0
      },
      "text/plain": [
       "VBox()"
      ]
     },
     "metadata": {},
     "output_type": "display_data"
    },
    {
     "data": {
      "application/vnd.jupyter.widget-view+json": {
       "model_id": "",
       "version_major": 2,
       "version_minor": 0
      },
      "text/plain": [
       "FloatProgress(value=0.0, bar_style='info', description='Progress:', layout=Layout(height='25px', width='50%'),…"
      ]
     },
     "metadata": {},
     "output_type": "display_data"
    }
   ],
   "source": [
    "df_parquet = spark.read.parquet(\"s3://amazon-reviews-pds/parquet/product_category=Gift_Card/*.parquet\")\n"
   ]
  },
  {
   "cell_type": "code",
   "execution_count": 5,
   "id": "a14d12dd-9171-429f-ac50-5c68e290e728",
   "metadata": {
    "execution": {
     "iopub.execute_input": "2022-11-13T12:09:11.386240Z",
     "iopub.status.busy": "2022-11-13T12:09:11.386033Z",
     "iopub.status.idle": "2022-11-13T12:09:12.205560Z",
     "shell.execute_reply": "2022-11-13T12:09:12.204784Z",
     "shell.execute_reply.started": "2022-11-13T12:09:11.386195Z"
    },
    "tags": []
   },
   "outputs": [
    {
     "data": {
      "application/vnd.jupyter.widget-view+json": {
       "model_id": "9bfb9450d6b442fe974cfd255bce5d6a",
       "version_major": 2,
       "version_minor": 0
      },
      "text/plain": [
       "VBox()"
      ]
     },
     "metadata": {},
     "output_type": "display_data"
    },
    {
     "data": {
      "application/vnd.jupyter.widget-view+json": {
       "model_id": "43b0bda37a604eb784ce6daf6e34ba54",
       "version_major": 2,
       "version_minor": 0
      },
      "text/plain": [
       "FloatProgress(value=0.0, bar_style='info', description='Progress:', layout=Layout(height='25px', width='50%'),…"
      ]
     },
     "metadata": {},
     "output_type": "display_data"
    }
   ],
   "source": [
    "df_parquet = spark.read.parquet(\"s3://amazon-reviews-pds/parquet/product_category=Gift_Card/*.parquet\")"
   ]
  },
  {
   "cell_type": "code",
   "execution_count": 6,
   "id": "cd28f388-889c-4d43-a540-2dc4ae030dde",
   "metadata": {
    "execution": {
     "iopub.execute_input": "2022-11-13T12:09:12.211828Z",
     "iopub.status.busy": "2022-11-13T12:09:12.209704Z",
     "iopub.status.idle": "2022-11-13T12:09:12.544156Z",
     "shell.execute_reply": "2022-11-13T12:09:12.543346Z",
     "shell.execute_reply.started": "2022-11-13T12:09:12.211792Z"
    },
    "tags": []
   },
   "outputs": [
    {
     "data": {
      "application/vnd.jupyter.widget-view+json": {
       "model_id": "12c4520c7db84a30a7a9e0b405210262",
       "version_major": 2,
       "version_minor": 0
      },
      "text/plain": [
       "VBox()"
      ]
     },
     "metadata": {},
     "output_type": "display_data"
    },
    {
     "data": {
      "application/vnd.jupyter.widget-view+json": {
       "model_id": "e8ca3bd9723a4eb89e4d5fc685da0b15",
       "version_major": 2,
       "version_minor": 0
      },
      "text/plain": [
       "FloatProgress(value=0.0, bar_style='info', description='Progress:', layout=Layout(height='25px', width='50%'),…"
      ]
     },
     "metadata": {},
     "output_type": "display_data"
    },
    {
     "name": "stdout",
     "output_type": "stream",
     "text": [
      "root\n",
      " |-- marketplace: string (nullable = true)\n",
      " |-- customer_id: string (nullable = true)\n",
      " |-- review_id: string (nullable = true)\n",
      " |-- product_id: string (nullable = true)\n",
      " |-- product_parent: string (nullable = true)\n",
      " |-- product_title: string (nullable = true)\n",
      " |-- star_rating: integer (nullable = true)\n",
      " |-- helpful_votes: integer (nullable = true)\n",
      " |-- total_votes: integer (nullable = true)\n",
      " |-- vine: string (nullable = true)\n",
      " |-- verified_purchase: string (nullable = true)\n",
      " |-- review_headline: string (nullable = true)\n",
      " |-- review_body: string (nullable = true)\n",
      " |-- review_date: date (nullable = true)\n",
      " |-- year: integer (nullable = true)"
     ]
    }
   ],
   "source": [
    "df_parquet.printSchema()"
   ]
  },
  {
   "cell_type": "code",
   "execution_count": 7,
   "id": "d8d26960-442e-48fd-9fcd-d4fb8dd5ea77",
   "metadata": {
    "execution": {
     "iopub.execute_input": "2022-11-13T12:09:12.545807Z",
     "iopub.status.busy": "2022-11-13T12:09:12.545376Z",
     "iopub.status.idle": "2022-11-13T12:09:46.083567Z",
     "shell.execute_reply": "2022-11-13T12:09:46.081511Z",
     "shell.execute_reply.started": "2022-11-13T12:09:12.545766Z"
    },
    "tags": []
   },
   "outputs": [
    {
     "data": {
      "application/vnd.jupyter.widget-view+json": {
       "model_id": "34e922f897684f3fa855026468f166a3",
       "version_major": 2,
       "version_minor": 0
      },
      "text/plain": [
       "VBox()"
      ]
     },
     "metadata": {},
     "output_type": "display_data"
    },
    {
     "data": {
      "application/vnd.jupyter.widget-view+json": {
       "model_id": "",
       "version_major": 2,
       "version_minor": 0
      },
      "text/plain": [
       "FloatProgress(value=0.0, bar_style='info', description='Progress:', layout=Layout(height='25px', width='50%'),…"
      ]
     },
     "metadata": {},
     "output_type": "display_data"
    }
   ],
   "source": [
    "df_parquet.write.mode(\"overwrite\").format(\"delta\").partitionBy(\"year\").save(deltaPath)"
   ]
  },
  {
   "cell_type": "code",
   "execution_count": 8,
   "id": "b80938da-c128-4ce1-ae09-00bac48df34a",
   "metadata": {
    "execution": {
     "iopub.execute_input": "2022-11-13T12:09:46.085251Z",
     "iopub.status.busy": "2022-11-13T12:09:46.084979Z",
     "iopub.status.idle": "2022-11-13T12:09:48.445125Z",
     "shell.execute_reply": "2022-11-13T12:09:48.430901Z",
     "shell.execute_reply.started": "2022-11-13T12:09:46.085212Z"
    },
    "tags": []
   },
   "outputs": [
    {
     "data": {
      "application/vnd.jupyter.widget-view+json": {
       "model_id": "0149d758ad1e4c40ad8145db7c2cc4b9",
       "version_major": 2,
       "version_minor": 0
      },
      "text/plain": [
       "VBox()"
      ]
     },
     "metadata": {},
     "output_type": "display_data"
    },
    {
     "data": {
      "application/vnd.jupyter.widget-view+json": {
       "model_id": "",
       "version_major": 2,
       "version_minor": 0
      },
      "text/plain": [
       "FloatProgress(value=0.0, bar_style='info', description='Progress:', layout=Layout(height='25px', width='50%'),…"
      ]
     },
     "metadata": {},
     "output_type": "display_data"
    },
    {
     "name": "stdout",
     "output_type": "stream",
     "text": [
      "+-----------+-----------+--------------+----------+--------------+--------------------+-----------+-------------+-----------+----+-----------------+--------------------+--------------------+-----------+----+\n",
      "|marketplace|customer_id|     review_id|product_id|product_parent|       product_title|star_rating|helpful_votes|total_votes|vine|verified_purchase|     review_headline|         review_body|review_date|year|\n",
      "+-----------+-----------+--------------+----------+--------------+--------------------+-----------+-------------+-----------+----+-----------------+--------------------+--------------------+-----------+----+\n",
      "|         US|   49127482|R11KUV8LZTZS9U|B0029F2570|     246986987|Amazon.com Gift C...|          5|            0|          0|   N|                Y|           gift card|the gift card was...| 2010-01-03|2010|\n",
      "|         US|   25433786|R2KVFXHM91LTAX|B001H53QDK|     246986987|Amazon.com Gift C...|          5|            0|          0|   N|                Y|          Great deal|Received this as ...| 2010-01-07|2010|\n",
      "|         US|   46729709|R1TZD0370WGKTP|B0029F2570|     246986987|Amazon.com Gift C...|          5|            0|          0|   N|                Y|Great idea for fi...|Great and easy wa...| 2010-01-08|2010|\n",
      "|         US|   47068386| R7JHUZQOQRCFP|B001H53QDK|     246986987|Amazon.com Gift C...|          5|            0|          0|   N|                Y|Soothe eye drops ...|[[ASIN:B001ET7D1K...| 2010-01-10|2010|\n",
      "|         US|   14833226|R1MCAZ3ONEQGDB|B002OECSDM|     246986987|Amazon.com Gift C...|          5|            0|          0|   N|                Y|    Amazon Gift Card|Excellent choice ...| 2010-01-26|2010|\n",
      "|         US|   48662455|R2EU9BFP5HM7M9|B0029F2570|     246986987|Amazon.com Gift C...|          5|            0|          0|   N|                Y|                love|I gave this as a ...| 2010-01-30|2010|\n",
      "|         US|   52951175| RIJI16ZWJ8YSL|B001H53QDK|     246986987|Amazon.com Gift C...|          5|            0|          0|   N|                Y|  Best Way to Please|When family is sc...| 2010-02-03|2010|\n",
      "|         US|   42833590|R128PCDFHQIYCJ|B001H53QDK|     246986987|Amazon.com Gift C...|          5|            0|          0|   N|                Y|    Amazon Gift Card|This item was on ...| 2010-02-08|2010|\n",
      "|         US|   15279351|R2V5JRPAFAGM1S|B001H53QDK|     246986987|Amazon.com Gift C...|          5|            5|          5|   N|                Y|'the thing they'v...|I ordered a holid...| 2010-02-11|2010|\n",
      "|         US|   36734477|R2W8A7QLXT4L6H|B001H53QDK|     246986987|Amazon.com Gift C...|          1|            1|          2|   N|                Y|     Amazon Gift Car|I would love it i...| 2010-02-25|2010|\n",
      "|         US|   13534127| R4ZWG5XY04CIK|B001H53QDK|     246986987|Amazon.com Gift C...|          1|            0|          2|   N|                Y|very very bad pra...|I wanted to cance...| 2010-05-03|2010|\n",
      "|         US|   16026737|R2A1WWDCRMUSI2|B001H53QDU|     246986987|Amazon.com Gift C...|          5|            0|          0|   N|                Y|           gift card|The item was I or...| 2010-06-01|2010|\n",
      "|         US|   33420376|R151VQADJW3FUG|B001H53QDU|     246986987|Amazon.com Gift C...|          4|            0|          0|   N|                Y|         As promised|Received the card...| 2010-06-25|2010|\n",
      "|         US|   49065010|R375JXOHGTGG32|B001H53QDK|     246986987|Amazon.com Gift C...|          1|            3|          5|   N|                N|Do not buy this p...|I received four $...| 2010-06-29|2010|\n",
      "|         US|   35662270|R3FOKX2GQ20B3O|B001H53QDK|     246986987|Amazon.com Gift C...|          5|            0|          0|   N|                Y|    Amazon Gift Card|How does one rate...| 2010-07-11|2010|\n",
      "|         US|   14933395|R38Z2XS4SXL0U9|B001H53QDK|     246986987|Amazon.com Gift C...|          5|            0|          0|   N|                Y|      amazon voucher|excellent gift to...| 2010-08-30|2010|\n",
      "|         US|   37053414| RM36Y1G9WGHH5|B001H53QDK|     246986987|Amazon.com Gift C...|          5|            0|          0|   N|                Y|No nonsense gifting.|What more can be ...| 2010-09-18|2010|\n",
      "|         US|   13842590|R1XKVK89HUAP4I|BT00CTOZPQ|      79158008|Amazon.com $500 G...|          5|           13|         15|   N|                Y|Super awesome Gif...|I bought the gift...| 2010-10-14|2010|\n",
      "|         US|   19553231|R2J3EK4VLORMHH|B001H53QDK|     246986987|Amazon.com Gift C...|          5|            1|          3|   N|                Y|    Amazon Gift Card|First of a I am v...| 2010-10-29|2010|\n",
      "|         US|   44964493|R3U41J8TCJJGC9|BT00DDVMVQ|      20546152|Amazon eGift Card...|          3|            0|          0|   N|                Y|  Gift card by email|My grandson lives...| 2010-10-31|2010|\n",
      "+-----------+-----------+--------------+----------+--------------+--------------------+-----------+-------------+-----------+----+-----------------+--------------------+--------------------+-----------+----+\n",
      "only showing top 20 rows"
     ]
    }
   ],
   "source": [
    "df_delta = spark.read.format(\"delta\").load(deltaPath)\n",
    "df_delta.show()"
   ]
  },
  {
   "cell_type": "code",
   "execution_count": 9,
   "id": "8366e555-7bf1-4ec8-9e78-6c6b248094de",
   "metadata": {
    "execution": {
     "iopub.execute_input": "2022-11-13T12:16:47.529606Z",
     "iopub.status.busy": "2022-11-13T12:16:47.529374Z",
     "iopub.status.idle": "2022-11-13T12:16:47.596017Z",
     "shell.execute_reply": "2022-11-13T12:16:47.595454Z",
     "shell.execute_reply.started": "2022-11-13T12:16:47.529580Z"
    }
   },
   "outputs": [
    {
     "data": {
      "application/vnd.jupyter.widget-view+json": {
       "model_id": "b7b78b40d8f34c199a0b5731fffc07eb",
       "version_major": 2,
       "version_minor": 0
      },
      "text/plain": [
       "VBox()"
      ]
     },
     "metadata": {},
     "output_type": "display_data"
    },
    {
     "data": {
      "application/vnd.jupyter.widget-view+json": {
       "model_id": "",
       "version_major": 2,
       "version_minor": 0
      },
      "text/plain": [
       "FloatProgress(value=0.0, bar_style='info', description='Progress:', layout=Layout(height='25px', width='50%'),…"
      ]
     },
     "metadata": {},
     "output_type": "display_data"
    }
   ],
   "source": [
    "spark.conf.set('table.location', deltaPath)"
   ]
  },
  {
   "cell_type": "code",
   "execution_count": 26,
   "id": "d03e24e3-5b19-499f-9864-cd21e0fd6a4c",
   "metadata": {
    "execution": {
     "iopub.execute_input": "2022-11-13T12:36:54.180063Z",
     "iopub.status.busy": "2022-11-13T12:36:54.179782Z",
     "iopub.status.idle": "2022-11-13T12:36:54.465365Z",
     "shell.execute_reply": "2022-11-13T12:36:54.464740Z",
     "shell.execute_reply.started": "2022-11-13T12:36:54.180036Z"
    },
    "tags": []
   },
   "outputs": [
    {
     "data": {
      "application/vnd.jupyter.widget-view+json": {
       "model_id": "5ca364bbbb1d473e99f6639447101fd8",
       "version_major": 2,
       "version_minor": 0
      },
      "text/plain": [
       "VBox()"
      ]
     },
     "metadata": {},
     "output_type": "display_data"
    },
    {
     "data": {
      "application/vnd.jupyter.widget-view+json": {
       "model_id": "",
       "version_major": 2,
       "version_minor": 0
      },
      "text/plain": [
       "FloatProgress(value=0.0, bar_style='info', description='Progress:', layout=Layout(height='25px', width='50%'),…"
      ]
     },
     "metadata": {},
     "output_type": "display_data"
    },
    {
     "name": "stderr",
     "output_type": "stream",
     "text": [
      "An error was encountered:\n",
      "Table or view not found: df_delta; line 1 pos 14;\n",
      "'Project [*]\n",
      "+- 'UnresolvedRelation [df_delta], [], false\n",
      "\n",
      "Traceback (most recent call last):\n",
      "  File \"/mnt1/yarn/usercache/livy/appcache/application_1668337450421_0002/container_1668337450421_0002_01_000001/pyspark.zip/pyspark/sql/session.py\", line 723, in sql\n",
      "    return DataFrame(self._jsparkSession.sql(sqlQuery), self._wrapped)\n",
      "  File \"/mnt1/yarn/usercache/livy/appcache/application_1668337450421_0002/container_1668337450421_0002_01_000001/py4j-0.10.9.3-src.zip/py4j/java_gateway.py\", line 1322, in __call__\n",
      "    answer, self.gateway_client, self.target_id, self.name)\n",
      "  File \"/mnt1/yarn/usercache/livy/appcache/application_1668337450421_0002/container_1668337450421_0002_01_000001/pyspark.zip/pyspark/sql/utils.py\", line 117, in deco\n",
      "    raise converted from None\n",
      "pyspark.sql.utils.AnalysisException: Table or view not found: df_delta; line 1 pos 14;\n",
      "'Project [*]\n",
      "+- 'UnresolvedRelation [df_delta], [], false\n",
      "\n",
      "\n"
     ]
    }
   ],
   "source": [
    "spark.sql(\"select * from df_delta\").show(truncate=False)\n"
   ]
  },
  {
   "cell_type": "code",
   "execution_count": 44,
   "id": "e1b610a9-283b-4296-b6ec-6a4b3560ee49",
   "metadata": {
    "execution": {
     "iopub.execute_input": "2022-11-13T12:49:22.436703Z",
     "iopub.status.busy": "2022-11-13T12:49:22.436322Z",
     "iopub.status.idle": "2022-11-13T12:49:25.142016Z",
     "shell.execute_reply": "2022-11-13T12:49:25.141338Z",
     "shell.execute_reply.started": "2022-11-13T12:49:22.436654Z"
    }
   },
   "outputs": [
    {
     "data": {
      "application/vnd.jupyter.widget-view+json": {
       "model_id": "",
       "version_major": 2,
       "version_minor": 0
      },
      "text/plain": [
       "FloatProgress(value=0.0, bar_style='info', description='Progress:', layout=Layout(height='25px', width='50%'),…"
      ]
     },
     "metadata": {},
     "output_type": "display_data"
    },
    {
     "data": {
      "application/vnd.jupyter.widget-view+json": {
       "model_id": "e5eff6390932453e81f7b9d1385a1101",
       "version_major": 2,
       "version_minor": 0
      },
      "text/plain": [
       "VBox(children=(HBox(children=(HTML(value='Type:'), Button(description='Table', layout=Layout(width='70px'), st…"
      ]
     },
     "metadata": {},
     "output_type": "display_data"
    },
    {
     "data": {
      "application/vnd.jupyter.widget-view+json": {
       "model_id": "63525e4bf33d4330ab62cf419b15da69",
       "version_major": 2,
       "version_minor": 0
      },
      "text/plain": [
       "Output()"
      ]
     },
     "metadata": {},
     "output_type": "display_data"
    }
   ],
   "source": [
    "%%sql\n",
    "SELECT * FROM  delta.`s3://ute-delta-lake/delta-amazon-reviews-pds/` LIMIT 10"
   ]
  },
  {
   "cell_type": "code",
   "execution_count": 37,
   "id": "8e0c9546-ca33-4527-9d9d-8011718d43ee",
   "metadata": {
    "execution": {
     "iopub.execute_input": "2022-11-13T12:43:20.903929Z",
     "iopub.status.busy": "2022-11-13T12:43:20.903699Z",
     "iopub.status.idle": "2022-11-13T12:43:22.204142Z",
     "shell.execute_reply": "2022-11-13T12:43:22.203361Z",
     "shell.execute_reply.started": "2022-11-13T12:43:20.903902Z"
    },
    "tags": []
   },
   "outputs": [
    {
     "data": {
      "application/vnd.jupyter.widget-view+json": {
       "model_id": "2819196208a94cf5849008878a47cc10",
       "version_major": 2,
       "version_minor": 0
      },
      "text/plain": [
       "VBox()"
      ]
     },
     "metadata": {},
     "output_type": "display_data"
    },
    {
     "data": {
      "application/vnd.jupyter.widget-view+json": {
       "model_id": "",
       "version_major": 2,
       "version_minor": 0
      },
      "text/plain": [
       "FloatProgress(value=0.0, bar_style='info', description='Progress:', layout=Layout(height='25px', width='50%'),…"
      ]
     },
     "metadata": {},
     "output_type": "display_data"
    },
    {
     "name": "stdout",
     "output_type": "stream",
     "text": [
      "+-----------+-----------+-----------+\n",
      "|marketplace|customer_id|review_date|\n",
      "+-----------+-----------+-----------+\n",
      "|         US|   49127482| 2010-01-03|\n",
      "|         US|   25433786| 2010-01-07|\n",
      "|         US|   46729709| 2010-01-08|\n",
      "|         US|   47068386| 2010-01-10|\n",
      "|         US|   14833226| 2010-01-26|\n",
      "|         US|   48662455| 2010-01-30|\n",
      "|         US|   52951175| 2010-02-03|\n",
      "|         US|   42833590| 2010-02-08|\n",
      "|         US|   15279351| 2010-02-11|\n",
      "|         US|   36734477| 2010-02-25|\n",
      "|         US|   13534127| 2010-05-03|\n",
      "|         US|   16026737| 2010-06-01|\n",
      "|         US|   33420376| 2010-06-25|\n",
      "|         US|   49065010| 2010-06-29|\n",
      "|         US|   35662270| 2010-07-11|\n",
      "|         US|   14933395| 2010-08-30|\n",
      "|         US|   37053414| 2010-09-18|\n",
      "|         US|   13842590| 2010-10-14|\n",
      "|         US|   19553231| 2010-10-29|\n",
      "|         US|   44964493| 2010-10-31|\n",
      "|         US|   14118723| 2010-11-09|\n",
      "|         US|   32998517| 2010-11-09|\n",
      "|         US|   39853837| 2010-11-10|\n",
      "|         US|   46174000| 2010-11-10|\n",
      "|         US|   18151917| 2010-11-10|\n",
      "|         US|   16751685| 2010-11-10|\n",
      "|         US|   20128918| 2010-11-12|\n",
      "|         US|   43325119| 2010-11-12|\n",
      "|         US|   20569450| 2010-11-15|\n",
      "|         US|   15624631| 2010-11-20|\n",
      "+-----------+-----------+-----------+"
     ]
    }
   ],
   "source": [
    "df_delta.createOrReplaceTempView(\"aws_product_review\")\n",
    "spark.sql(\"select marketplace,customer_id,review_date  from aws_product_review LIMIT 30\").show(30)"
   ]
  },
  {
   "cell_type": "code",
   "execution_count": 38,
   "id": "fc7d428c-bc7e-4d4a-83e4-54632b181637",
   "metadata": {
    "execution": {
     "iopub.execute_input": "2022-11-13T12:45:03.191932Z",
     "iopub.status.busy": "2022-11-13T12:45:03.191698Z",
     "iopub.status.idle": "2022-11-13T12:45:03.988653Z",
     "shell.execute_reply": "2022-11-13T12:45:03.987792Z",
     "shell.execute_reply.started": "2022-11-13T12:45:03.191907Z"
    }
   },
   "outputs": [
    {
     "data": {
      "application/vnd.jupyter.widget-view+json": {
       "model_id": "46efe25b7f494517a394cb56520339fd",
       "version_major": 2,
       "version_minor": 0
      },
      "text/plain": [
       "VBox()"
      ]
     },
     "metadata": {},
     "output_type": "display_data"
    },
    {
     "data": {
      "application/vnd.jupyter.widget-view+json": {
       "model_id": "",
       "version_major": 2,
       "version_minor": 0
      },
      "text/plain": [
       "FloatProgress(value=0.0, bar_style='info', description='Progress:', layout=Layout(height='25px', width='50%'),…"
      ]
     },
     "metadata": {},
     "output_type": "display_data"
    }
   ],
   "source": [
    "deltaTable = DeltaTable.forPath(spark, deltaPath) #khai báo 1 datatable"
   ]
  },
  {
   "cell_type": "code",
   "execution_count": 39,
   "id": "30457954-7708-4826-9406-07ccd13ae438",
   "metadata": {
    "execution": {
     "iopub.execute_input": "2022-11-13T12:45:45.666855Z",
     "iopub.status.busy": "2022-11-13T12:45:45.666622Z",
     "iopub.status.idle": "2022-11-13T12:45:55.021157Z",
     "shell.execute_reply": "2022-11-13T12:45:55.020353Z",
     "shell.execute_reply.started": "2022-11-13T12:45:45.666831Z"
    }
   },
   "outputs": [
    {
     "data": {
      "application/vnd.jupyter.widget-view+json": {
       "model_id": "de810e3133d8402980ecef12a2eb094f",
       "version_major": 2,
       "version_minor": 0
      },
      "text/plain": [
       "VBox()"
      ]
     },
     "metadata": {},
     "output_type": "display_data"
    },
    {
     "data": {
      "application/vnd.jupyter.widget-view+json": {
       "model_id": "",
       "version_major": 2,
       "version_minor": 0
      },
      "text/plain": [
       "FloatProgress(value=0.0, bar_style='info', description='Progress:', layout=Layout(height='25px', width='50%'),…"
      ]
     },
     "metadata": {},
     "output_type": "display_data"
    }
   ],
   "source": [
    "deltaTable.update(\"marketplace = 'US'\",{ \"marketplace\":\"'USA'\"}) # Thay đổi toàn bộ marketplace US thành USA"
   ]
  },
  {
   "cell_type": "code",
   "execution_count": 43,
   "id": "2f591309-da63-4f04-9809-c7559dd6836d",
   "metadata": {
    "execution": {
     "iopub.execute_input": "2022-11-13T12:48:12.995770Z",
     "iopub.status.busy": "2022-11-13T12:48:12.995428Z",
     "iopub.status.idle": "2022-11-13T12:48:13.871023Z",
     "shell.execute_reply": "2022-11-13T12:48:13.870349Z",
     "shell.execute_reply.started": "2022-11-13T12:48:12.995731Z"
    },
    "tags": []
   },
   "outputs": [
    {
     "data": {
      "application/vnd.jupyter.widget-view+json": {
       "model_id": "",
       "version_major": 2,
       "version_minor": 0
      },
      "text/plain": [
       "FloatProgress(value=0.0, bar_style='info', description='Progress:', layout=Layout(height='25px', width='50%'),…"
      ]
     },
     "metadata": {},
     "output_type": "display_data"
    },
    {
     "data": {
      "application/vnd.jupyter.widget-view+json": {
       "model_id": "f66384a00b3c4241bcbe404db0f806cf",
       "version_major": 2,
       "version_minor": 0
      },
      "text/plain": [
       "VBox(children=(HBox(), EncodingWidget(children=(VBox(children=(HTML(value='Encoding:'), Dropdown(description='…"
      ]
     },
     "metadata": {},
     "output_type": "display_data"
    },
    {
     "data": {
      "application/vnd.jupyter.widget-view+json": {
       "model_id": "36fff5bafe114e72902f0c688d255442",
       "version_major": 2,
       "version_minor": 0
      },
      "text/plain": [
       "Output()"
      ]
     },
     "metadata": {},
     "output_type": "display_data"
    }
   ],
   "source": [
    "%%sql\n",
    "update delta.`s3://ute-delta-lake/delta-amazon-reviews-pds/` \n",
    "set marketplace = 'USA' where marketplace = 'US' "
   ]
  },
  {
   "cell_type": "code",
   "execution_count": 41,
   "id": "17b16bc0-5b9e-4d2d-9980-f7a4451e78c5",
   "metadata": {
    "execution": {
     "iopub.execute_input": "2022-11-13T12:47:34.588276Z",
     "iopub.status.busy": "2022-11-13T12:47:34.588046Z",
     "iopub.status.idle": "2022-11-13T12:47:35.941249Z",
     "shell.execute_reply": "2022-11-13T12:47:35.940571Z",
     "shell.execute_reply.started": "2022-11-13T12:47:34.588251Z"
    }
   },
   "outputs": [
    {
     "data": {
      "application/vnd.jupyter.widget-view+json": {
       "model_id": "",
       "version_major": 2,
       "version_minor": 0
      },
      "text/plain": [
       "FloatProgress(value=0.0, bar_style='info', description='Progress:', layout=Layout(height='25px', width='50%'),…"
      ]
     },
     "metadata": {},
     "output_type": "display_data"
    },
    {
     "data": {
      "application/vnd.jupyter.widget-view+json": {
       "model_id": "08cfaea290ac49b3be160089cf28cda9",
       "version_major": 2,
       "version_minor": 0
      },
      "text/plain": [
       "VBox(children=(HBox(), EncodingWidget(children=(VBox(children=(HTML(value='Encoding:'), Dropdown(description='…"
      ]
     },
     "metadata": {},
     "output_type": "display_data"
    },
    {
     "data": {
      "application/vnd.jupyter.widget-view+json": {
       "model_id": "1c9d74cc277645b19b818ce49ccf3e9d",
       "version_major": 2,
       "version_minor": 0
      },
      "text/plain": [
       "Output()"
      ]
     },
     "metadata": {},
     "output_type": "display_data"
    }
   ],
   "source": []
  },
  {
   "cell_type": "code",
   "execution_count": 45,
   "id": "50527f4b-4c3d-45cb-9808-7d91da1f9214",
   "metadata": {
    "execution": {
     "iopub.execute_input": "2022-11-13T12:55:38.732056Z",
     "iopub.status.busy": "2022-11-13T12:55:38.731806Z",
     "iopub.status.idle": "2022-11-13T12:55:40.019537Z",
     "shell.execute_reply": "2022-11-13T12:55:40.018621Z",
     "shell.execute_reply.started": "2022-11-13T12:55:38.732029Z"
    },
    "tags": []
   },
   "outputs": [
    {
     "data": {
      "application/vnd.jupyter.widget-view+json": {
       "model_id": "59579574081b44cbb67eb1a474a00a81",
       "version_major": 2,
       "version_minor": 0
      },
      "text/plain": [
       "VBox()"
      ]
     },
     "metadata": {},
     "output_type": "display_data"
    },
    {
     "data": {
      "application/vnd.jupyter.widget-view+json": {
       "model_id": "",
       "version_major": 2,
       "version_minor": 0
      },
      "text/plain": [
       "FloatProgress(value=0.0, bar_style='info', description='Progress:', layout=Layout(height='25px', width='50%'),…"
      ]
     },
     "metadata": {},
     "output_type": "display_data"
    },
    {
     "name": "stdout",
     "output_type": "stream",
     "text": [
      "+-----------+-----------+--------------+----------+--------------+--------------------+-----------+-------------+-----------+----+-----------------+--------------------+--------------------+-----------+----+\n",
      "|marketplace|customer_id|     review_id|product_id|product_parent|       product_title|star_rating|helpful_votes|total_votes|vine|verified_purchase|     review_headline|         review_body|review_date|year|\n",
      "+-----------+-----------+--------------+----------+--------------+--------------------+-----------+-------------+-----------+----+-----------------+--------------------+--------------------+-----------+----+\n",
      "|        USA|   49022882|R3R9VE8FI0D0PV|BT00CTOUNS|     775486538|Amazon.com Gift C...|          5|            0|          0|   N|                N|Favorite gift of ...|I always ask for ...| 2011-01-05|2011|\n",
      "|        USA|   35995131|R2QX4JAM9B375A|BT00DDC7CE|     802996579|Amazon.com Gift C...|          5|            0|          0|   N|                N|Life-saver during...|Thank you Amazon!...| 2011-01-11|2011|\n",
      "|        USA|   35145700|R1SGV4ODWLIZ6Q|BT00DDC7CE|     802996579|Amazon.com Gift C...|          5|            0|          0|   N|                N|So easy to print ...|I really enjoyed ...| 2011-01-12|2011|\n",
      "|        USA|   47981026|R2Y34R1OK3EFIK|BT00CTOUNS|     775486538|Amazon.com Gift C...|          5|            0|          0|   N|                N|Always a great gi...|I love Amazon gif...| 2011-01-16|2011|\n",
      "|        USA|   13289980|R36X3U62CXXCIT|BT00DDBSA6|      45067361|Amazon.com Gift C...|          5|            0|          0|   N|                N|Perfect for the r...|if the recipient ...| 2011-01-17|2011|\n",
      "|        USA|   31068192|R2UY942DA10HJM|BT00DDC7CE|     802996579|Amazon.com Gift C...|          5|            0|          0|   N|                N|Easy and inexpens...|I love Audrey Hep...| 2011-01-21|2011|\n",
      "|        USA|   50524583|R38NPN179JN4B6|BT00DDC7CE|     802996579|Amazon.com Gift C...|          5|            0|          0|   N|                N|Only easy gift ca...|I've tried Visa, ...| 2011-01-22|2011|\n",
      "|        USA|   44287753|R1RAO33N28WGVC|BT00DDVMVQ|      20546152|Amazon eGift Card...|          5|            0|          0|   N|                N| Fabulous Gift Cards|Amazon gift cards...| 2011-01-23|2011|\n",
      "|        USA|   48590690|R15O6LMX8CNO3J|BT00CTOUNS|     775486538|Amazon.com Gift C...|          5|            0|          0|   N|                N|        a great gift|I received an AMA...| 2011-01-25|2011|\n",
      "|        USA|   13862087| RX61ETXEGRTZQ|BT00CTOUNS|     775486538|Amazon.com Gift C...|          4|            0|          0|   N|                N|Amazon Gift Cards...|Amazon gift cards...| 2011-01-25|2011|\n",
      "|        USA|   14194675|R1E8J0KOILP6NU|BT00CTOUNS|     775486538|Amazon.com Gift C...|          5|            0|          0|   N|                N|    Amazon Gift Card|I received a Kind...| 2011-01-25|2011|\n",
      "|        USA|   42910418| R51BXC7TL7IM4|BT00CTOUNS|     775486538|Amazon.com Gift C...|          5|            0|          0|   N|                N|         Great gift.|Loved getting the...| 2011-01-25|2011|\n",
      "|        USA|   47412231| RB8LCKAE0E0P2|BT00CTOUNS|     775486538|Amazon.com Gift C...|          5|            0|          0|   N|                N|     Christmas gift.|I requested someo...| 2011-01-25|2011|\n",
      "|        USA|   19676836| RHRG27MNP8QWO|BT00CTOUNS|     775486538|Amazon.com Gift C...|          5|            0|          0|   N|                N|Best birthday gif...|A few months ago ...| 2011-01-25|2011|\n",
      "|        USA|   41544585|  RMHIKUXI02K8|BT00CTOUNS|     775486538|Amazon.com Gift C...|          5|            0|          0|   N|                N|Easy, cheesy, lem...|I received a gift...| 2011-01-25|2011|\n",
      "|        USA|   14579744| RELJHU5H851AJ|BT00CTOUNS|     775486538|Amazon.com Gift C...|          4|            0|          0|   N|                N|           Gift card|I received a Kind...| 2011-01-25|2011|\n",
      "|        USA|   37920126|R1REZY4LO8SHLH|BT00CTOUNS|     775486538|Amazon.com Gift C...|          5|            0|          0|   N|                N|    Great gift idea!|I was thrilled to...| 2011-01-25|2011|\n",
      "|        USA|   10640585| RITL6WHOIM7UO|BT00CTOUNS|     775486538|Amazon.com Gift C...|          5|            0|          0|   N|                N|Non expiring gift...|It's a gift card ...| 2011-01-25|2011|\n",
      "|        USA|   32761224|R2HTSQOBJ4VL0E|BT00CTOUNS|     775486538|Amazon.com Gift C...|          5|            0|          0|   N|                N|             So Easy|I received my gif...| 2011-01-25|2011|\n",
      "|        USA|   44044079|R24UW816AX6ZK7|BT00CTOUNS|     775486538|Amazon.com Gift C...|          5|            0|          0|   N|                N|              Thanks|I can't charge my...| 2011-01-25|2011|\n",
      "+-----------+-----------+--------------+----------+--------------+--------------------+-----------+-------------+-----------+----+-----------------+--------------------+--------------------+-----------+----+\n",
      "only showing top 20 rows"
     ]
    }
   ],
   "source": [
    "df_delta.filter(\"verified_purchase = 'N'\").show() #Xem dữ liệu trước khi xóa"
   ]
  },
  {
   "cell_type": "code",
   "execution_count": 46,
   "id": "564b77aa-a11e-4255-90df-647231cdc88a",
   "metadata": {
    "execution": {
     "iopub.execute_input": "2022-11-13T12:56:36.612031Z",
     "iopub.status.busy": "2022-11-13T12:56:36.611781Z",
     "iopub.status.idle": "2022-11-13T12:56:46.042826Z",
     "shell.execute_reply": "2022-11-13T12:56:46.042091Z",
     "shell.execute_reply.started": "2022-11-13T12:56:36.611995Z"
    },
    "tags": []
   },
   "outputs": [
    {
     "data": {
      "application/vnd.jupyter.widget-view+json": {
       "model_id": "190a5848cb3046a191dd5c9d103bcb14",
       "version_major": 2,
       "version_minor": 0
      },
      "text/plain": [
       "VBox()"
      ]
     },
     "metadata": {},
     "output_type": "display_data"
    },
    {
     "data": {
      "application/vnd.jupyter.widget-view+json": {
       "model_id": "",
       "version_major": 2,
       "version_minor": 0
      },
      "text/plain": [
       "FloatProgress(value=0.0, bar_style='info', description='Progress:', layout=Layout(height='25px', width='50%'),…"
      ]
     },
     "metadata": {},
     "output_type": "display_data"
    },
    {
     "name": "stdout",
     "output_type": "stream",
     "text": [
      "+-----------+-----------+---------+----------+--------------+-------------+-----------+-------------+-----------+----+-----------------+---------------+-----------+-----------+----+\n",
      "|marketplace|customer_id|review_id|product_id|product_parent|product_title|star_rating|helpful_votes|total_votes|vine|verified_purchase|review_headline|review_body|review_date|year|\n",
      "+-----------+-----------+---------+----------+--------------+-------------+-----------+-------------+-----------+----+-----------------+---------------+-----------+-----------+----+\n",
      "+-----------+-----------+---------+----------+--------------+-------------+-----------+-------------+-----------+----+-----------------+---------------+-----------+-----------+----+"
     ]
    }
   ],
   "source": [
    "deltaTable.delete(\"verified_purchase = 'N'\") #Xóa dữ liệu\n",
    "df_delta.filter(\"verified_purchase = 'N'\").show() #Show lại sau khi xóa"
   ]
  },
  {
   "cell_type": "code",
   "execution_count": 48,
   "id": "5060bbff-0aea-4587-b74c-0ff263c585c9",
   "metadata": {
    "execution": {
     "iopub.execute_input": "2022-11-13T12:59:29.856503Z",
     "iopub.status.busy": "2022-11-13T12:59:29.856264Z",
     "iopub.status.idle": "2022-11-13T12:59:35.178815Z",
     "shell.execute_reply": "2022-11-13T12:59:35.178044Z",
     "shell.execute_reply.started": "2022-11-13T12:59:29.856476Z"
    },
    "tags": []
   },
   "outputs": [
    {
     "data": {
      "application/vnd.jupyter.widget-view+json": {
       "model_id": "ef7f066932a04435802a3795a41f8347",
       "version_major": 2,
       "version_minor": 0
      },
      "text/plain": [
       "VBox()"
      ]
     },
     "metadata": {},
     "output_type": "display_data"
    },
    {
     "data": {
      "application/vnd.jupyter.widget-view+json": {
       "model_id": "",
       "version_major": 2,
       "version_minor": 0
      },
      "text/plain": [
       "FloatProgress(value=0.0, bar_style='info', description='Progress:', layout=Layout(height='25px', width='50%'),…"
      ]
     },
     "metadata": {},
     "output_type": "display_data"
    },
    {
     "name": "stdout",
     "output_type": "stream",
     "text": [
      "+-----------+-----------+--------------+----------+--------------+--------------------+-----------+-------------+-----------+----+-----------------+--------------------+--------------------+-----------+----+\n",
      "|marketplace|customer_id|     review_id|product_id|product_parent|       product_title|star_rating|helpful_votes|total_votes|vine|verified_purchase|     review_headline|         review_body|review_date|year|\n",
      "+-----------+-----------+--------------+----------+--------------+--------------------+-----------+-------------+-----------+----+-----------------+--------------------+--------------------+-----------+----+\n",
      "|        USA|   49022882|R3R9VE8FI0D0PV|BT00CTOUNS|     775486538|Amazon.com Gift C...|          5|            0|          0|   N|                N|Favorite gift of ...|I always ask for ...| 2011-01-05|2011|\n",
      "|        USA|   35995131|R2QX4JAM9B375A|BT00DDC7CE|     802996579|Amazon.com Gift C...|          5|            0|          0|   N|                N|Life-saver during...|Thank you Amazon!...| 2011-01-11|2011|\n",
      "|        USA|   35145700|R1SGV4ODWLIZ6Q|BT00DDC7CE|     802996579|Amazon.com Gift C...|          5|            0|          0|   N|                N|So easy to print ...|I really enjoyed ...| 2011-01-12|2011|\n",
      "|        USA|   47981026|R2Y34R1OK3EFIK|BT00CTOUNS|     775486538|Amazon.com Gift C...|          5|            0|          0|   N|                N|Always a great gi...|I love Amazon gif...| 2011-01-16|2011|\n",
      "|        USA|   13289980|R36X3U62CXXCIT|BT00DDBSA6|      45067361|Amazon.com Gift C...|          5|            0|          0|   N|                N|Perfect for the r...|if the recipient ...| 2011-01-17|2011|\n",
      "|        USA|   31068192|R2UY942DA10HJM|BT00DDC7CE|     802996579|Amazon.com Gift C...|          5|            0|          0|   N|                N|Easy and inexpens...|I love Audrey Hep...| 2011-01-21|2011|\n",
      "|        USA|   50524583|R38NPN179JN4B6|BT00DDC7CE|     802996579|Amazon.com Gift C...|          5|            0|          0|   N|                N|Only easy gift ca...|I've tried Visa, ...| 2011-01-22|2011|\n",
      "|        USA|   44287753|R1RAO33N28WGVC|BT00DDVMVQ|      20546152|Amazon eGift Card...|          5|            0|          0|   N|                N| Fabulous Gift Cards|Amazon gift cards...| 2011-01-23|2011|\n",
      "|        USA|   48590690|R15O6LMX8CNO3J|BT00CTOUNS|     775486538|Amazon.com Gift C...|          5|            0|          0|   N|                N|        a great gift|I received an AMA...| 2011-01-25|2011|\n",
      "|        USA|   13862087| RX61ETXEGRTZQ|BT00CTOUNS|     775486538|Amazon.com Gift C...|          4|            0|          0|   N|                N|Amazon Gift Cards...|Amazon gift cards...| 2011-01-25|2011|\n",
      "+-----------+-----------+--------------+----------+--------------+--------------------+-----------+-------------+-----------+----+-----------------+--------------------+--------------------+-----------+----+\n",
      "only showing top 10 rows"
     ]
    }
   ],
   "source": [
    "prev_version = deltaTable.history().selectExpr('max(version)').collect()[0][0] - 1\n",
    "prev_version_data = spark.read.format('delta').option('versionAsOf', prev_version).load(deltaPath)\n",
    "prev_version_data.filter(\"verified_purchase = 'N'\").show(10)"
   ]
  },
  {
   "cell_type": "code",
   "execution_count": 49,
   "id": "696101c9-9e20-4ac6-9485-3276928de947",
   "metadata": {
    "execution": {
     "iopub.execute_input": "2022-11-13T13:01:05.971309Z",
     "iopub.status.busy": "2022-11-13T13:01:05.971074Z",
     "iopub.status.idle": "2022-11-13T13:01:06.747461Z",
     "shell.execute_reply": "2022-11-13T13:01:06.746731Z",
     "shell.execute_reply.started": "2022-11-13T13:01:05.971284Z"
    }
   },
   "outputs": [
    {
     "data": {
      "application/vnd.jupyter.widget-view+json": {
       "model_id": "0fd6d2e84057487bbde74c3120ab64ee",
       "version_major": 2,
       "version_minor": 0
      },
      "text/plain": [
       "VBox()"
      ]
     },
     "metadata": {},
     "output_type": "display_data"
    },
    {
     "data": {
      "application/vnd.jupyter.widget-view+json": {
       "model_id": "",
       "version_major": 2,
       "version_minor": 0
      },
      "text/plain": [
       "FloatProgress(value=0.0, bar_style='info', description='Progress:', layout=Layout(height='25px', width='50%'),…"
      ]
     },
     "metadata": {},
     "output_type": "display_data"
    },
    {
     "name": "stdout",
     "output_type": "stream",
     "text": [
      "+-------+-------------------+---------+--------------------------------------------+\n",
      "|version|timestamp          |operation|operationParameters                         |\n",
      "+-------+-------------------+---------+--------------------------------------------+\n",
      "|5      |2022-11-13 12:56:42|DELETE   |{predicate -> [\"(verified_purchase = 'N')\"]}|\n",
      "|4      |2022-11-13 12:45:53|UPDATE   |{predicate -> (marketplace#2095 = US)}      |\n",
      "|3      |2022-11-13 12:09:42|WRITE    |{mode -> Overwrite, partitionBy -> [\"year\"]}|\n",
      "|2      |2022-11-13 11:10:56|WRITE    |{mode -> Overwrite, partitionBy -> [\"year\"]}|\n",
      "|1      |2022-11-13 09:05:06|WRITE    |{mode -> Overwrite, partitionBy -> [\"year\"]}|\n",
      "|0      |2022-11-12 16:47:24|WRITE    |{mode -> Overwrite, partitionBy -> [\"year\"]}|\n",
      "+-------+-------------------+---------+--------------------------------------------+"
     ]
    }
   ],
   "source": [
    "deltaTable.history(100).select(\"version\", \"timestamp\", \"operation\", \"operationParameters\").show(truncate=False) # show ra lịch sử chỉnh sửa\n"
   ]
  },
  {
   "cell_type": "code",
   "execution_count": 50,
   "id": "a4b96ccb-1034-4eca-b40c-339a6c336e93",
   "metadata": {
    "execution": {
     "iopub.execute_input": "2022-11-13T13:02:15.164556Z",
     "iopub.status.busy": "2022-11-13T13:02:15.164325Z",
     "iopub.status.idle": "2022-11-13T13:02:18.478555Z",
     "shell.execute_reply": "2022-11-13T13:02:18.477923Z",
     "shell.execute_reply.started": "2022-11-13T13:02:15.164531Z"
    }
   },
   "outputs": [
    {
     "data": {
      "application/vnd.jupyter.widget-view+json": {
       "model_id": "7fb12815b4dc4306b12074de7ff4ae56",
       "version_major": 2,
       "version_minor": 0
      },
      "text/plain": [
       "VBox()"
      ]
     },
     "metadata": {},
     "output_type": "display_data"
    },
    {
     "data": {
      "application/vnd.jupyter.widget-view+json": {
       "model_id": "",
       "version_major": 2,
       "version_minor": 0
      },
      "text/plain": [
       "FloatProgress(value=0.0, bar_style='info', description='Progress:', layout=Layout(height='25px', width='50%'),…"
      ]
     },
     "metadata": {},
     "output_type": "display_data"
    },
    {
     "name": "stdout",
     "output_type": "stream",
     "text": [
      "+-----------+-----------+--------------+----------+--------------+--------------------+-----------+-------------+-----------+----+-----------------+--------------------+--------------------+-----------+----+\n",
      "|marketplace|customer_id|     review_id|product_id|product_parent|       product_title|star_rating|helpful_votes|total_votes|vine|verified_purchase|     review_headline|         review_body|review_date|year|\n",
      "+-----------+-----------+--------------+----------+--------------+--------------------+-----------+-------------+-----------+----+-----------------+--------------------+--------------------+-----------+----+\n",
      "|         US|   49127482|R11KUV8LZTZS9U|B0029F2570|     246986987|Amazon.com Gift C...|          5|            0|          0|   N|                Y|           gift card|the gift card was...| 2010-01-03|2010|\n",
      "|         US|   25433786|R2KVFXHM91LTAX|B001H53QDK|     246986987|Amazon.com Gift C...|          5|            0|          0|   N|                Y|          Great deal|Received this as ...| 2010-01-07|2010|\n",
      "|         US|   46729709|R1TZD0370WGKTP|B0029F2570|     246986987|Amazon.com Gift C...|          5|            0|          0|   N|                Y|Great idea for fi...|Great and easy wa...| 2010-01-08|2010|\n",
      "|         US|   47068386| R7JHUZQOQRCFP|B001H53QDK|     246986987|Amazon.com Gift C...|          5|            0|          0|   N|                Y|Soothe eye drops ...|[[ASIN:B001ET7D1K...| 2010-01-10|2010|\n",
      "|         US|   14833226|R1MCAZ3ONEQGDB|B002OECSDM|     246986987|Amazon.com Gift C...|          5|            0|          0|   N|                Y|    Amazon Gift Card|Excellent choice ...| 2010-01-26|2010|\n",
      "|         US|   48662455|R2EU9BFP5HM7M9|B0029F2570|     246986987|Amazon.com Gift C...|          5|            0|          0|   N|                Y|                love|I gave this as a ...| 2010-01-30|2010|\n",
      "|         US|   52951175| RIJI16ZWJ8YSL|B001H53QDK|     246986987|Amazon.com Gift C...|          5|            0|          0|   N|                Y|  Best Way to Please|When family is sc...| 2010-02-03|2010|\n",
      "|         US|   42833590|R128PCDFHQIYCJ|B001H53QDK|     246986987|Amazon.com Gift C...|          5|            0|          0|   N|                Y|    Amazon Gift Card|This item was on ...| 2010-02-08|2010|\n",
      "|         US|   15279351|R2V5JRPAFAGM1S|B001H53QDK|     246986987|Amazon.com Gift C...|          5|            5|          5|   N|                Y|'the thing they'v...|I ordered a holid...| 2010-02-11|2010|\n",
      "|         US|   36734477|R2W8A7QLXT4L6H|B001H53QDK|     246986987|Amazon.com Gift C...|          1|            1|          2|   N|                Y|     Amazon Gift Car|I would love it i...| 2010-02-25|2010|\n",
      "|         US|   13534127| R4ZWG5XY04CIK|B001H53QDK|     246986987|Amazon.com Gift C...|          1|            0|          2|   N|                Y|very very bad pra...|I wanted to cance...| 2010-05-03|2010|\n",
      "|         US|   16026737|R2A1WWDCRMUSI2|B001H53QDU|     246986987|Amazon.com Gift C...|          5|            0|          0|   N|                Y|           gift card|The item was I or...| 2010-06-01|2010|\n",
      "|         US|   33420376|R151VQADJW3FUG|B001H53QDU|     246986987|Amazon.com Gift C...|          4|            0|          0|   N|                Y|         As promised|Received the card...| 2010-06-25|2010|\n",
      "|         US|   49065010|R375JXOHGTGG32|B001H53QDK|     246986987|Amazon.com Gift C...|          1|            3|          5|   N|                N|Do not buy this p...|I received four $...| 2010-06-29|2010|\n",
      "|         US|   35662270|R3FOKX2GQ20B3O|B001H53QDK|     246986987|Amazon.com Gift C...|          5|            0|          0|   N|                Y|    Amazon Gift Card|How does one rate...| 2010-07-11|2010|\n",
      "|         US|   14933395|R38Z2XS4SXL0U9|B001H53QDK|     246986987|Amazon.com Gift C...|          5|            0|          0|   N|                Y|      amazon voucher|excellent gift to...| 2010-08-30|2010|\n",
      "|         US|   37053414| RM36Y1G9WGHH5|B001H53QDK|     246986987|Amazon.com Gift C...|          5|            0|          0|   N|                Y|No nonsense gifting.|What more can be ...| 2010-09-18|2010|\n",
      "|         US|   13842590|R1XKVK89HUAP4I|BT00CTOZPQ|      79158008|Amazon.com $500 G...|          5|           13|         15|   N|                Y|Super awesome Gif...|I bought the gift...| 2010-10-14|2010|\n",
      "|         US|   19553231|R2J3EK4VLORMHH|B001H53QDK|     246986987|Amazon.com Gift C...|          5|            1|          3|   N|                Y|    Amazon Gift Card|First of a I am v...| 2010-10-29|2010|\n",
      "|         US|   44964493|R3U41J8TCJJGC9|BT00DDVMVQ|      20546152|Amazon eGift Card...|          3|            0|          0|   N|                Y|  Gift card by email|My grandson lives...| 2010-10-31|2010|\n",
      "+-----------+-----------+--------------+----------+--------------+--------------------+-----------+-------------+-----------+----+-----------------+--------------------+--------------------+-----------+----+\n",
      "only showing top 20 rows"
     ]
    }
   ],
   "source": [
    "df_time_travel = spark.read.format(\"delta\").option(\"versionAsOf\", 0).load(deltaPath) # đọc lại verion 0 ở lịch sử chỉnh sửa và show ra ta có thể thấy là marketplace vẫn là US trước khi sửa\n",
    "df_time_travel.show()"
   ]
  },
  {
   "cell_type": "code",
   "execution_count": 59,
   "id": "58567f3d-932f-4a67-894c-494a72d24773",
   "metadata": {
    "execution": {
     "iopub.execute_input": "2022-11-13T13:21:39.540839Z",
     "iopub.status.busy": "2022-11-13T13:21:39.540557Z",
     "iopub.status.idle": "2022-11-13T13:21:40.845778Z",
     "shell.execute_reply": "2022-11-13T13:21:40.845072Z",
     "shell.execute_reply.started": "2022-11-13T13:21:39.540798Z"
    },
    "tags": []
   },
   "outputs": [
    {
     "data": {
      "application/vnd.jupyter.widget-view+json": {
       "model_id": "1372b2f867674615b6e30a2e50f5673c",
       "version_major": 2,
       "version_minor": 0
      },
      "text/plain": [
       "VBox()"
      ]
     },
     "metadata": {},
     "output_type": "display_data"
    },
    {
     "data": {
      "application/vnd.jupyter.widget-view+json": {
       "model_id": "",
       "version_major": 2,
       "version_minor": 0
      },
      "text/plain": [
       "FloatProgress(value=0.0, bar_style='info', description='Progress:', layout=Layout(height='25px', width='50%'),…"
      ]
     },
     "metadata": {},
     "output_type": "display_data"
    },
    {
     "name": "stdout",
     "output_type": "stream",
     "text": [
      "+-----------+-----------+--------------+----------+--------------+--------------------+-----------+-------------+-----------+----+-----------------+---------------+--------------------+-----------+----+\n",
      "|marketplace|customer_id|     review_id|product_id|product_parent|       product_title|star_rating|helpful_votes|total_votes|vine|verified_purchase|review_headline|         review_body|review_date|year|\n",
      "+-----------+-----------+--------------+----------+--------------+--------------------+-----------+-------------+-----------+----+-----------------+---------------+--------------------+-----------+----+\n",
      "|        USA|   38602100|R315TR7JY5XODE|B00C5UMB7S|     512447107|Amazon eGift Card...|          5|            0|          0|   N|                Y|      Gift Card|These gift cards ...| 2014-04-10|2014|\n",
      "+-----------+-----------+--------------+----------+--------------+--------------------+-----------+-------------+-----------+----+-----------------+---------------+--------------------+-----------+----+"
     ]
    }
   ],
   "source": [
    "spark.sql(\"select * from aws_product_review where review_id in ('R315TR7JY5XODE', 'R315TR7JY5XOA1')\").show() # show kết quả trước khi upsert"
   ]
  },
  {
   "cell_type": "code",
   "execution_count": 60,
   "id": "fffa5a62-ed07-4883-9c3c-ceb4ab167db6",
   "metadata": {
    "execution": {
     "iopub.execute_input": "2022-11-13T13:23:34.855670Z",
     "iopub.status.busy": "2022-11-13T13:23:34.855419Z",
     "iopub.status.idle": "2022-11-13T13:23:34.916194Z",
     "shell.execute_reply": "2022-11-13T13:23:34.915581Z",
     "shell.execute_reply.started": "2022-11-13T13:23:34.855645Z"
    }
   },
   "outputs": [
    {
     "data": {
      "application/vnd.jupyter.widget-view+json": {
       "model_id": "689ad6d5591b404ca85b5c86a47d84a2",
       "version_major": 2,
       "version_minor": 0
      },
      "text/plain": [
       "VBox()"
      ]
     },
     "metadata": {},
     "output_type": "display_data"
    },
    {
     "data": {
      "application/vnd.jupyter.widget-view+json": {
       "model_id": "",
       "version_major": 2,
       "version_minor": 0
      },
      "text/plain": [
       "FloatProgress(value=0.0, bar_style='info', description='Progress:', layout=Layout(height='25px', width='50%'),…"
      ]
     },
     "metadata": {},
     "output_type": "display_data"
    }
   ],
   "source": [
    "data_upsert = [ {\"marketplace\":'US',\"customer_id\":'38602100', \"review_id\":'R315TR7JY5XODE',\"product_id\":'B00CHSWG6O',\"product_parent\":'336289302',\"product_title\" :'Amazon eGift Card', \"star_rating\":'5', \"helpful_votes\":'2',\"total_votes\":'0',\"vine\":'N',\"verified_purchase\":'Y',\"review_headline\":'GREAT',\"review_body\":'GOOD PRODUCT',\"review_date\":'2014-04-11',\"year\":'2014'},\n",
    "{\"marketplace\":'US',\"customer_id\":'38602103', \"review_id\":'R315TR7JY5XOA1',\"product_id\":\"B007V6EVY2\",\"product_parent\":'910961751',\"product_title\" :'Amazon eGift Card', \"star_rating\":'5', \"helpful_votes\":'2',\"total_votes\":'0',\"vine\":'N',\"verified_purchase\":'Y',\"review_headline\":'AWESOME',\"review_body\":'GREAT PRODUCT',\"review_date\":'2014-04-11',\"year\":'2014'}\n",
    "]"
   ]
  },
  {
   "cell_type": "code",
   "execution_count": 61,
   "id": "2c4c4e1e-3698-468e-83b2-312336b85c45",
   "metadata": {
    "execution": {
     "iopub.execute_input": "2022-11-13T13:25:06.828427Z",
     "iopub.status.busy": "2022-11-13T13:25:06.828192Z",
     "iopub.status.idle": "2022-11-13T13:25:07.615998Z",
     "shell.execute_reply": "2022-11-13T13:25:07.615371Z",
     "shell.execute_reply.started": "2022-11-13T13:25:06.828402Z"
    }
   },
   "outputs": [
    {
     "data": {
      "application/vnd.jupyter.widget-view+json": {
       "model_id": "d12f0cab9e044b72a7808c97b98c7b27",
       "version_major": 2,
       "version_minor": 0
      },
      "text/plain": [
       "VBox()"
      ]
     },
     "metadata": {},
     "output_type": "display_data"
    },
    {
     "data": {
      "application/vnd.jupyter.widget-view+json": {
       "model_id": "",
       "version_major": 2,
       "version_minor": 0
      },
      "text/plain": [
       "FloatProgress(value=0.0, bar_style='info', description='Progress:', layout=Layout(height='25px', width='50%'),…"
      ]
     },
     "metadata": {},
     "output_type": "display_data"
    },
    {
     "name": "stdout",
     "output_type": "stream",
     "text": [
      "+-----------+-------------+-----------+----------+--------------+-----------------+-------------+-----------+---------------+--------------+-----------+-----------+-----------------+----+----+\n",
      "|customer_id|helpful_votes|marketplace|product_id|product_parent|    product_title|  review_body|review_date|review_headline|     review_id|star_rating|total_votes|verified_purchase|vine|year|\n",
      "+-----------+-------------+-----------+----------+--------------+-----------------+-------------+-----------+---------------+--------------+-----------+-----------+-----------------+----+----+\n",
      "|   38602100|            2|         US|B00CHSWG6O|     336289302|Amazon eGift Card| GOOD PRODUCT| 2014-04-11|          GREAT|R315TR7JY5XODE|          5|          0|                Y|   N|2014|\n",
      "|   38602103|            2|         US|B007V6EVY2|     910961751|Amazon eGift Card|GREAT PRODUCT| 2014-04-11|        AWESOME|R315TR7JY5XOA1|          5|          0|                Y|   N|2014|\n",
      "+-----------+-------------+-----------+----------+--------------+-----------------+-------------+-----------+---------------+--------------+-----------+-----------+-----------------+----+----+"
     ]
    }
   ],
   "source": [
    "df_data_upsert = spark.createDataFrame(data_upsert)\n",
    "df_data_upsert.show()"
   ]
  },
  {
   "cell_type": "code",
   "execution_count": 62,
   "id": "546c101c-ea85-48ff-ba16-23990250d1b4",
   "metadata": {
    "execution": {
     "iopub.execute_input": "2022-11-13T13:26:01.847464Z",
     "iopub.status.busy": "2022-11-13T13:26:01.847179Z",
     "iopub.status.idle": "2022-11-13T13:26:13.229663Z",
     "shell.execute_reply": "2022-11-13T13:26:13.228873Z",
     "shell.execute_reply.started": "2022-11-13T13:26:01.847424Z"
    }
   },
   "outputs": [
    {
     "data": {
      "application/vnd.jupyter.widget-view+json": {
       "model_id": "3a7b28448d664b34962a7c3b61a270f6",
       "version_major": 2,
       "version_minor": 0
      },
      "text/plain": [
       "VBox()"
      ]
     },
     "metadata": {},
     "output_type": "display_data"
    },
    {
     "data": {
      "application/vnd.jupyter.widget-view+json": {
       "model_id": "",
       "version_major": 2,
       "version_minor": 0
      },
      "text/plain": [
       "FloatProgress(value=0.0, bar_style='info', description='Progress:', layout=Layout(height='25px', width='50%'),…"
      ]
     },
     "metadata": {},
     "output_type": "display_data"
    }
   ],
   "source": [
    "(deltaTable\n",
    ".alias('t')\n",
    ".merge(df_data_upsert.alias('u'), 't.review_id = u.review_id')\n",
    ".whenMatchedUpdateAll()\n",
    ".whenNotMatchedInsertAll()\n",
    ".execute())"
   ]
  },
  {
   "cell_type": "code",
   "execution_count": 63,
   "id": "d0bca33f-85db-40a6-a55d-ef0bb813ab49",
   "metadata": {
    "execution": {
     "iopub.execute_input": "2022-11-13T13:29:00.354800Z",
     "iopub.status.busy": "2022-11-13T13:29:00.354552Z",
     "iopub.status.idle": "2022-11-13T13:29:02.645420Z",
     "shell.execute_reply": "2022-11-13T13:29:02.644619Z",
     "shell.execute_reply.started": "2022-11-13T13:29:00.354766Z"
    }
   },
   "outputs": [
    {
     "data": {
      "application/vnd.jupyter.widget-view+json": {
       "model_id": "a4fe4af4f4cb4c1eb9d2c8cfd62bed05",
       "version_major": 2,
       "version_minor": 0
      },
      "text/plain": [
       "VBox()"
      ]
     },
     "metadata": {},
     "output_type": "display_data"
    },
    {
     "data": {
      "application/vnd.jupyter.widget-view+json": {
       "model_id": "",
       "version_major": 2,
       "version_minor": 0
      },
      "text/plain": [
       "FloatProgress(value=0.0, bar_style='info', description='Progress:', layout=Layout(height='25px', width='50%'),…"
      ]
     },
     "metadata": {},
     "output_type": "display_data"
    },
    {
     "name": "stdout",
     "output_type": "stream",
     "text": [
      "+-----------+-----------+--------------+----------+--------------+-----------------+-----------+-------------+-----------+----+-----------------+---------------+-------------+-----------+----+\n",
      "|marketplace|customer_id|     review_id|product_id|product_parent|    product_title|star_rating|helpful_votes|total_votes|vine|verified_purchase|review_headline|  review_body|review_date|year|\n",
      "+-----------+-----------+--------------+----------+--------------+-----------------+-----------+-------------+-----------+----+-----------------+---------------+-------------+-----------+----+\n",
      "|         US|   38602100|R315TR7JY5XODE|B00CHSWG6O|     336289302|Amazon eGift Card|          5|            2|          0|   N|                Y|          GREAT| GOOD PRODUCT| 2014-04-11|2014|\n",
      "|         US|   38602103|R315TR7JY5XOA1|B007V6EVY2|     910961751|Amazon eGift Card|          5|            2|          0|   N|                Y|        AWESOME|GREAT PRODUCT| 2014-04-11|2014|\n",
      "+-----------+-----------+--------------+----------+--------------+-----------------+-----------+-------------+-----------+----+-----------------+---------------+-------------+-----------+----+"
     ]
    }
   ],
   "source": [
    "spark.sql(\"select * from aws_product_review where review_id in ('R315TR7JY5XODE', 'R315TR7JY5XOA1')\").show() # show sau khi khi upsert"
   ]
  },
  {
   "cell_type": "code",
   "execution_count": null,
   "id": "0a614481-e607-4cca-91a3-44a38102d0fc",
   "metadata": {},
   "outputs": [],
   "source": []
  }
 ],
 "metadata": {
  "kernelspec": {
   "display_name": "PySpark",
   "language": "",
   "name": "pysparkkernel"
  },
  "language_info": {
   "codemirror_mode": {
    "name": "python",
    "version": 3
   },
   "file_extension": ".py",
   "mimetype": "text/x-python",
   "name": "pyspark",
   "pygments_lexer": "python3"
  }
 },
 "nbformat": 4,
 "nbformat_minor": 5
}
